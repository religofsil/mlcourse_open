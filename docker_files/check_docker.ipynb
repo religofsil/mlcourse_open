{
 "cells": [
  {
   "cell_type": "code",
   "execution_count": 1,
   "metadata": {},
   "outputs": [
    {
     "name": "stderr",
     "output_type": "stream",
     "text": [
      "Using TensorFlow backend.\n"
     ]
    },
    {
     "name": "stdout",
     "output_type": "stream",
     "text": [
      "CPython 3.5.2\n",
<<<<<<< HEAD
      "IPython 6.1.0\n",
      "\n",
      "numpy 1.13.0\n",
      "scipy 0.19.0\n",
      "pandas 0.20.2\n",
      "matplotlib 2.0.2\n",
      "sklearn 0.18.2\n",
      "keras 2.0.5\n",
      "\n",
      "compiler   : GCC 5.4.0 20160609\n",
      "system     : Linux\n",
      "release    : 4.4.0-93-generic\n",
=======
      "IPython 6.2.0\n",
      "\n",
      "numpy 1.13.1\n",
      "scipy 0.19.1\n",
      "pandas 0.20.3\n",
      "matplotlib 2.0.2\n",
      "sklearn 0.19.0\n",
      "keras 2.0.8\n",
      "\n",
      "compiler   : GCC 5.4.0 20160609\n",
      "system     : Linux\n",
      "release    : 4.9.41-moby\n",
>>>>>>> fdd5027b1fe17481ff98830ad9e41bd4a7684cfb
      "machine    : x86_64\n",
      "processor  : x86_64\n",
      "CPU cores  : 4\n",
      "interpreter: 64bit\n"
     ]
    }
   ],
   "source": [
    "%load_ext watermark\n",
    "%watermark -v -m -p numpy,scipy,pandas,matplotlib,sklearn,keras"
   ]
  },
  {
   "cell_type": "code",
   "execution_count": 2,
   "metadata": {},
   "outputs": [
    {
     "name": "stdout",
     "output_type": "stream",
     "text": [
      "              total        used        free      shared  buff/cache   available\r\n",
<<<<<<< HEAD
      "Mem:           7879        2972        1577         652        3329        3881\r\n",
      "Swap:          8087        1280        6807\r\n"
=======
      "Mem:           7973         285        4110         162        3578        7192\r\n",
      "Swap:          3994           0        3994\r\n"
>>>>>>> fdd5027b1fe17481ff98830ad9e41bd4a7684cfb
     ]
    }
   ],
   "source": [
    "!free -m"
   ]
  },
  {
   "cell_type": "code",
   "execution_count": 3,
   "metadata": {},
   "outputs": [],
   "source": [
    "import warnings\n",
    "warnings.filterwarnings('ignore')\n",
    "%matplotlib inline\n",
    "from matplotlib import pyplot as plt\n",
    "import seaborn as sns\n",
    "import pandas as pd\n",
    "from sklearn.datasets import load_breast_cancer\n",
    "from sklearn.model_selection import train_test_split\n",
    "from sklearn.metrics import roc_curve"
   ]
  },
  {
   "cell_type": "code",
   "execution_count": 4,
   "metadata": {},
   "outputs": [
    {
     "data": {
      "application/vnd.jupyter.widget-view+json": {
<<<<<<< HEAD
       "model_id": "1996985c6364446cb0ce278769b35357"
      }
=======
       "model_id": "b004f3f94a0e42c89c55471a35b97371",
       "version_major": 2,
       "version_minor": 0
      },
      "text/html": [
       "<p>Failed to display Jupyter Widget of type <code>HBox</code>.</p>\n",
       "<p>\n",
       "  If you're reading this message in Jupyter Notebook or JupyterLab, it may mean\n",
       "  that the widgets JavaScript is still loading. If this message persists, it\n",
       "  likely means that the widgets JavaScript library is either not installed or\n",
       "  not enabled. See the <a href=\"https://ipywidgets.readthedocs.io/en/stable/user_install.html\">Jupyter\n",
       "  Widgets Documentation</a> for setup instructions.\n",
       "</p>\n",
       "<p>\n",
       "  If you're reading this message in another notebook frontend (for example, a static\n",
       "  rendering on GitHub or <a href=\"https://nbviewer.jupyter.org/\">NBViewer</a>),\n",
       "  it may mean that your frontend doesn't currently support widgets.\n",
       "</p>\n"
      ],
      "text/plain": [
       "HBox(children=(IntProgress(value=0), HTML(value='')))"
      ]
>>>>>>> fdd5027b1fe17481ff98830ad9e41bd4a7684cfb
     },
     "metadata": {},
     "output_type": "display_data"
    },
    {
     "name": "stdout",
     "output_type": "stream",
     "text": [
      "\n"
     ]
    }
   ],
   "source": [
    "import time\n",
    "from tqdm import tqdm_notebook\n",
    "for i in tqdm_notebook(range(100)):\n",
    "    time.sleep(0.05)"
   ]
  },
  {
   "cell_type": "code",
   "execution_count": 5,
   "metadata": {},
   "outputs": [
    {
     "data": {
      "text/html": [
       "<div>\n",
       "<style>\n",
       "    .dataframe thead tr:only-child th {\n",
       "        text-align: right;\n",
       "    }\n",
       "\n",
       "    .dataframe thead th {\n",
       "        text-align: left;\n",
       "    }\n",
       "\n",
       "    .dataframe tbody tr th {\n",
       "        vertical-align: top;\n",
       "    }\n",
       "</style>\n",
       "<table border=\"1\" class=\"dataframe\">\n",
       "  <thead>\n",
       "    <tr style=\"text-align: right;\">\n",
       "      <th></th>\n",
       "      <th>mean radius</th>\n",
       "      <th>mean texture</th>\n",
       "      <th>mean perimeter</th>\n",
       "      <th>mean area</th>\n",
       "      <th>mean smoothness</th>\n",
       "      <th>mean compactness</th>\n",
       "      <th>mean concavity</th>\n",
       "      <th>mean concave points</th>\n",
       "      <th>mean symmetry</th>\n",
       "      <th>mean fractal dimension</th>\n",
       "      <th>...</th>\n",
       "      <th>worst radius</th>\n",
       "      <th>worst texture</th>\n",
       "      <th>worst perimeter</th>\n",
       "      <th>worst area</th>\n",
       "      <th>worst smoothness</th>\n",
       "      <th>worst compactness</th>\n",
       "      <th>worst concavity</th>\n",
       "      <th>worst concave points</th>\n",
       "      <th>worst symmetry</th>\n",
       "      <th>worst fractal dimension</th>\n",
       "    </tr>\n",
       "  </thead>\n",
       "  <tbody>\n",
       "    <tr>\n",
       "      <th>0</th>\n",
       "      <td>17.99</td>\n",
       "      <td>10.38</td>\n",
       "      <td>122.80</td>\n",
       "      <td>1001.0</td>\n",
       "      <td>0.11840</td>\n",
       "      <td>0.27760</td>\n",
       "      <td>0.3001</td>\n",
       "      <td>0.14710</td>\n",
       "      <td>0.2419</td>\n",
       "      <td>0.07871</td>\n",
       "      <td>...</td>\n",
       "      <td>25.38</td>\n",
       "      <td>17.33</td>\n",
       "      <td>184.60</td>\n",
       "      <td>2019.0</td>\n",
       "      <td>0.1622</td>\n",
       "      <td>0.6656</td>\n",
       "      <td>0.7119</td>\n",
       "      <td>0.2654</td>\n",
       "      <td>0.4601</td>\n",
       "      <td>0.11890</td>\n",
       "    </tr>\n",
       "    <tr>\n",
       "      <th>1</th>\n",
       "      <td>20.57</td>\n",
       "      <td>17.77</td>\n",
       "      <td>132.90</td>\n",
       "      <td>1326.0</td>\n",
       "      <td>0.08474</td>\n",
       "      <td>0.07864</td>\n",
       "      <td>0.0869</td>\n",
       "      <td>0.07017</td>\n",
       "      <td>0.1812</td>\n",
       "      <td>0.05667</td>\n",
       "      <td>...</td>\n",
       "      <td>24.99</td>\n",
       "      <td>23.41</td>\n",
       "      <td>158.80</td>\n",
       "      <td>1956.0</td>\n",
       "      <td>0.1238</td>\n",
       "      <td>0.1866</td>\n",
       "      <td>0.2416</td>\n",
       "      <td>0.1860</td>\n",
       "      <td>0.2750</td>\n",
       "      <td>0.08902</td>\n",
       "    </tr>\n",
       "    <tr>\n",
       "      <th>2</th>\n",
       "      <td>19.69</td>\n",
       "      <td>21.25</td>\n",
       "      <td>130.00</td>\n",
       "      <td>1203.0</td>\n",
       "      <td>0.10960</td>\n",
       "      <td>0.15990</td>\n",
       "      <td>0.1974</td>\n",
       "      <td>0.12790</td>\n",
       "      <td>0.2069</td>\n",
       "      <td>0.05999</td>\n",
       "      <td>...</td>\n",
       "      <td>23.57</td>\n",
       "      <td>25.53</td>\n",
       "      <td>152.50</td>\n",
       "      <td>1709.0</td>\n",
       "      <td>0.1444</td>\n",
       "      <td>0.4245</td>\n",
       "      <td>0.4504</td>\n",
       "      <td>0.2430</td>\n",
       "      <td>0.3613</td>\n",
       "      <td>0.08758</td>\n",
       "    </tr>\n",
       "    <tr>\n",
       "      <th>3</th>\n",
       "      <td>11.42</td>\n",
       "      <td>20.38</td>\n",
       "      <td>77.58</td>\n",
       "      <td>386.1</td>\n",
       "      <td>0.14250</td>\n",
       "      <td>0.28390</td>\n",
       "      <td>0.2414</td>\n",
       "      <td>0.10520</td>\n",
       "      <td>0.2597</td>\n",
       "      <td>0.09744</td>\n",
       "      <td>...</td>\n",
       "      <td>14.91</td>\n",
       "      <td>26.50</td>\n",
       "      <td>98.87</td>\n",
       "      <td>567.7</td>\n",
       "      <td>0.2098</td>\n",
       "      <td>0.8663</td>\n",
       "      <td>0.6869</td>\n",
       "      <td>0.2575</td>\n",
       "      <td>0.6638</td>\n",
       "      <td>0.17300</td>\n",
       "    </tr>\n",
       "    <tr>\n",
       "      <th>4</th>\n",
       "      <td>20.29</td>\n",
       "      <td>14.34</td>\n",
       "      <td>135.10</td>\n",
       "      <td>1297.0</td>\n",
       "      <td>0.10030</td>\n",
       "      <td>0.13280</td>\n",
       "      <td>0.1980</td>\n",
       "      <td>0.10430</td>\n",
       "      <td>0.1809</td>\n",
       "      <td>0.05883</td>\n",
       "      <td>...</td>\n",
       "      <td>22.54</td>\n",
       "      <td>16.67</td>\n",
       "      <td>152.20</td>\n",
       "      <td>1575.0</td>\n",
       "      <td>0.1374</td>\n",
       "      <td>0.2050</td>\n",
       "      <td>0.4000</td>\n",
       "      <td>0.1625</td>\n",
       "      <td>0.2364</td>\n",
       "      <td>0.07678</td>\n",
       "    </tr>\n",
       "  </tbody>\n",
       "</table>\n",
       "<p>5 rows × 30 columns</p>\n",
       "</div>"
      ],
      "text/plain": [
       "   mean radius  mean texture  mean perimeter  mean area  mean smoothness  \\\n",
       "0        17.99         10.38          122.80     1001.0          0.11840   \n",
       "1        20.57         17.77          132.90     1326.0          0.08474   \n",
       "2        19.69         21.25          130.00     1203.0          0.10960   \n",
       "3        11.42         20.38           77.58      386.1          0.14250   \n",
       "4        20.29         14.34          135.10     1297.0          0.10030   \n",
       "\n",
       "   mean compactness  mean concavity  mean concave points  mean symmetry  \\\n",
       "0           0.27760          0.3001              0.14710         0.2419   \n",
       "1           0.07864          0.0869              0.07017         0.1812   \n",
       "2           0.15990          0.1974              0.12790         0.2069   \n",
       "3           0.28390          0.2414              0.10520         0.2597   \n",
       "4           0.13280          0.1980              0.10430         0.1809   \n",
       "\n",
       "   mean fractal dimension           ...             worst radius  \\\n",
       "0                 0.07871           ...                    25.38   \n",
       "1                 0.05667           ...                    24.99   \n",
       "2                 0.05999           ...                    23.57   \n",
       "3                 0.09744           ...                    14.91   \n",
       "4                 0.05883           ...                    22.54   \n",
       "\n",
       "   worst texture  worst perimeter  worst area  worst smoothness  \\\n",
       "0          17.33           184.60      2019.0            0.1622   \n",
       "1          23.41           158.80      1956.0            0.1238   \n",
       "2          25.53           152.50      1709.0            0.1444   \n",
       "3          26.50            98.87       567.7            0.2098   \n",
       "4          16.67           152.20      1575.0            0.1374   \n",
       "\n",
       "   worst compactness  worst concavity  worst concave points  worst symmetry  \\\n",
       "0             0.6656           0.7119                0.2654          0.4601   \n",
       "1             0.1866           0.2416                0.1860          0.2750   \n",
       "2             0.4245           0.4504                0.2430          0.3613   \n",
       "3             0.8663           0.6869                0.2575          0.6638   \n",
       "4             0.2050           0.4000                0.1625          0.2364   \n",
       "\n",
       "   worst fractal dimension  \n",
       "0                  0.11890  \n",
       "1                  0.08902  \n",
       "2                  0.08758  \n",
       "3                  0.17300  \n",
       "4                  0.07678  \n",
       "\n",
       "[5 rows x 30 columns]"
      ]
     },
     "execution_count": 5,
     "metadata": {},
     "output_type": "execute_result"
    }
   ],
   "source": [
    "cancer = load_breast_cancer()\n",
    "X, y = cancer.data, cancer.target\n",
    "pd.DataFrame(X, columns=cancer.feature_names).head()"
   ]
  },
  {
   "cell_type": "code",
   "execution_count": 6,
   "metadata": {},
   "outputs": [],
   "source": [
    "import xgboost, lightgbm"
   ]
  },
  {
   "cell_type": "code",
   "execution_count": 7,
<<<<<<< HEAD
   "metadata": {
    "collapsed": true
   },
=======
   "metadata": {},
>>>>>>> fdd5027b1fe17481ff98830ad9e41bd4a7684cfb
   "outputs": [],
   "source": [
    "X_train, X_test, y_train, y_test = train_test_split(X, y)\n",
    "xgb = xgboost.XGBClassifier(n_estimators=200)\n",
    "xgb.fit(X_train, y_train)\n",
    "prediction = xgb.predict_proba(X_test)"
   ]
  },
  {
   "cell_type": "code",
   "execution_count": 8,
   "metadata": {},
   "outputs": [
    {
     "data": {
<<<<<<< HEAD
      "image/png": "iVBORw0KGgoAAAANSUhEUgAAAeMAAAFKCAYAAAAuZDceAAAABHNCSVQICAgIfAhkiAAAAAlwSFlz\nAAALEgAACxIB0t1+/AAAFVZJREFUeJzt3X9o2/edx/GXJtVZwqnGyZyvzZ3O/SOmG2dT9yCQcNTu\n5AoTq2bJ7JT+WNrRuh2FFJeWeC2k3vBKZ/pjxf+cg8lwWFJWsoy2xCpkw2YxNKYerEFNymhcqs5p\nK8VdtYtT72wsf++P3sxcJ5aar+y3LD8ff0XRJ1+9eZPkiX4g+1zXdQUAAMx8w3oAAADWO2IMAIAx\nYgwAgDFiDACAMWIMAIAxYgwAgLGA1QNPTk7l9XplZZuUTk/n9ZrrEXv0jh16xw69Y4fe5XuH5eXB\na95XNM+MAwG/9QhFgT16xw69Y4fesUPvVnOHRRNjAADWKmIMAIAxYgwAgDFiDACAMWIMAIAxYgwA\ngDFiDACAMWIMAICxrDF++umntXPnTt15551Xvd91XT377LOKRCJqaWnR+fPn8z4kAADFLGuMv//9\n7+vw4cPXvH9kZESJREK/+93v9LOf/Uw//elP8zkfAABFL+t3U2/fvl0XL1685v1DQ0PavXu3fD6f\n6urqdPnyZV26dElbt27N66BeHR8e1x//fMl6jILn9/uUybjWY6xp7NA7dugdO/Su/j//TS07/n1V\nHsvzD4pIpVKqqKhYuF1RUaFUKpU1xmVlm/L+vZ/LfQn3ny5MKn1lRt8q/WZeH7MY+f0+6xHWPHbo\nHTv0jh16t1xX8snspzbl+6eJlJcHl/1JUJmMq7J/2aCeH+3M6+MWm2x7RHbs0Dt26B079C7fO1zR\nn9rkOI6SyeTC7WQyKcdxvF4WAIB1w3OMw+GwXn/9dbmuq7NnzyoYDBbc+8UAABSyrC9TP/HEExob\nG1M6nVZ9fb0ee+wxzc3NSZLuueceNTQ06PTp04pEItq4caOee+65FR8aAIBikjXGv/jFL5a93+fz\n6Sc/+UneBroex4fH9acLk8t+cjA9NaOy4IZVnAoAgNwUxTdw/fHPl/TZ//zvsmfKghu0/du8fA4A\nKDxmn6bOt2+VfpNPSgMA1qSieGYMAMBaRowBADBGjAEAMEaMAQAwRowBADBGjAEAMEaMAQAwRowB\nADBGjAEAMEaMAQAwRowBADBGjAEAMEaMAQAwRowBADBGjAEAMEaMAQAwRowBADBGjAEAMEaMAQAw\nRowBADBGjAEAMEaMAQAwRowBADBGjAEAMEaMAQAwRowBADBGjAEAMEaMAQAwRowBADBGjAEAMEaM\nAQAwRowBADBGjAEAMEaMAQAwRowBADBGjAEAMEaMAQAwRowBADBGjAEAMEaMAQAwRowBADBGjAEA\nMEaMAQAwRowBADCWU4xHRkbU1NSkSCSi/v7+Jfd/8skn2rdvn3bv3q2WlhadPn0674MCAFCsAtkO\nZDIZdXd3a2BgQI7jqK2tTeFwWNu2bVs409fXp127dunee+/V+Pi4HnnkEQ0PD6/o4AAAFIusz4zj\n8biqqqoUCoVUUlKiaDSqoaGhRWd8Pp+uXLkiSZqamtLWrVtXZloAAIpQ1mfGqVRKFRUVC7cdx1E8\nHl90Zv/+/XrooYd07Ngx/f3vf9fAwEDWBy4r26RAwH8dIy/l9/skSeXlwbxcb71jj96xQ+/YoXfs\n0LvV2mHWGOciFotpz549evDBB/XOO++os7NTg4OD+sY3rv3EO52ezsdDS5IyGVd+v0+Tk1N5u+Z6\nVV4eZI8esUPv2KF37NC7fO9wubBnfZnacRwlk8mF26lUSo7jLDpz4sQJ7dq1S5J06623amZmRul0\n+nrnBQBgXcka49raWiUSCU1MTGh2dlaxWEzhcHjRmcrKSo2OjkqSPvjgA83MzGjz5s0rMzEAAEUm\n68vUgUBAXV1dam9vVyaTUWtrq6qrq9Xb26uamho1Njbqqaee0sGDB3XkyBH5fD719PTI5/OtxvwA\nAKx5Ob1n3NDQoIaGhkW/19HRsfDrbdu26dVXX83vZAAArBN8AxcAAMaIMQAAxogxAADGiDEAAMaI\nMQAAxogxAADGiDEAAMaIMQAAxogxAADGiDEAAMaIMQAAxogxAADGiDEAAMaIMQAAxogxAADGiDEA\nAMaIMQAAxogxAADGiDEAAMaIMQAAxogxAADGiDEAAMaIMQAAxogxAADGiDEAAMaIMQAAxogxAADG\niDEAAMaIMQAAxogxAADGiDEAAMaIMQAAxogxAADGiDEAAMaIMQAAxogxAADGiDEAAMaIMQAAxogx\nAADGiDEAAMaIMQAAxogxAADGiDEAAMaIMQAAxogxAADGiDEAAMZyivHIyIiampoUiUTU399/1TNv\nvvmmmpubFY1G9eSTT+Z1SAAAilkg24FMJqPu7m4NDAzIcRy1tbUpHA5r27ZtC2cSiYT6+/v161//\nWqWlpfrrX/+6okMDAFBMsj4zjsfjqqqqUigUUklJiaLRqIaGhhadOX78uO677z6VlpZKkrZs2bIy\n0wIAUISyPjNOpVKqqKhYuO04juLx+KIziURCknT33Xdrfn5e+/fvV319/bLXLSvbpEDAfx0jL+X3\n+yRJ5eXBvFxvvWOP3rFD79ihd+zQu9XaYdYY5yKTyeijjz7S0aNHlUwm9YMf/EAnT57UjTfeeM0/\nk05P5+Oh///xXfn9Pk1OTuXtmutVeXmQPXrEDr1jh96xQ+/yvcPlwp71ZWrHcZRMJhdup1IpOY6z\n5Ew4HNYNN9ygUCikm266aeHZMgAAWF7WGNfW1iqRSGhiYkKzs7OKxWIKh8OLztxxxx0aGxuTJH3+\n+edKJBIKhUIrMzEAAEUm68vUgUBAXV1dam9vVyaTUWtrq6qrq9Xb26uamho1Njbqtttu01tvvaXm\n5mb5/X51dnaqrKxsNeYHAGDN87mu61o8cD5fhz/w32fk9/vU86OdebvmesX7TN6xQ+/YoXfs0LuC\nes8YAACsLGIMAIAxYgwAgDFiDACAMWIMAIAxYgwAgDFiDACAMWIMAIAxYgwAgDFiDACAMWIMAIAx\nYgwAgDFiDACAMWIMAIAxYgwAgDFiDACAMWIMAIAxYgwAgDFiDACAMWIMAIAxYgwAgDFiDACAMWIM\nAIAxYgwAgDFiDACAMWIMAIAxYgwAgDFiDACAMWIMAIAxYgwAgDFiDACAMWIMAIAxYgwAgDFiDACA\nMWIMAIAxYgwAgDFiDACAMWIMAIAxYgwAgDFiDACAMWIMAIAxYgwAgDFiDACAMWIMAIAxYgwAgDFi\nDACAsZxiPDIyoqamJkUiEfX391/z3KlTp3TzzTfr3XffzduAAAAUu6wxzmQy6u7u1uHDhxWLxTQ4\nOKjx8fEl565cuaJf/epXuuWWW1ZkUAAAilXWGMfjcVVVVSkUCqmkpETRaFRDQ0NLzvX29urhhx/W\nhg0bVmRQAACKVSDbgVQqpYqKioXbjuMoHo8vOnP+/Hklk0ndfvvt+uUvf5nTA5eVbVIg4P+a416d\n3++TJJWXB/NyvfWOPXrHDr1jh96xQ+9Wa4dZY5zN/Py8enp69POf//xr/bl0etrrQy/IZFz5/T5N\nTk7l7ZrrVXl5kD16xA69Y4fesUPv8r3D5cKe9WVqx3GUTCYXbqdSKTmOs3D7iy++0Pvvv6/7779f\n4XBYZ8+e1aOPPsqHuAAAyFHWZ8a1tbVKJBKamJiQ4ziKxWJ66aWXFu4PBoN6++23F27v27dPnZ2d\nqq2tXZmJAQAoMlljHAgE1NXVpfb2dmUyGbW2tqq6ulq9vb2qqalRY2PjaswJAEDRyuk944aGBjU0\nNCz6vY6OjquePXr0qPepAABYR/gGLgAAjBFjAACMEWMAAIwRYwAAjBFjAACMEWMAAIwRYwAAjBFj\nAACMEWMAAIwRYwAAjBFjAACMEWMAAIwRYwAAjBFjAACMEWMAAIwRYwAAjBFjAACMEWMAAIwRYwAA\njBFjAACMEWMAAIwRYwAAjBFjAACMEWMAAIwRYwAAjBFjAACMEWMAAIwRYwAAjBFjAACMEWMAAIwR\nYwAAjBFjAACMEWMAAIwRYwAAjBFjAACMEWMAAIwRYwAAjBFjAACMEWMAAIwRYwAAjBFjAACMEWMA\nAIwRYwAAjBFjAACMEWMAAIwRYwAAjOUU45GRETU1NSkSiai/v3/J/QMDA2publZLS4seeOABffzx\nx3kfFACAYpU1xplMRt3d3Tp8+LBisZgGBwc1Pj6+6Mx3vvMd/fa3v9XJkyfV1NSkF154YcUGBgCg\n2GSNcTweV1VVlUKhkEpKShSNRjU0NLTozI4dO7Rx40ZJUl1dnZLJ5MpMCwBAEQpkO5BKpVRRUbFw\n23EcxePxa54/ceKE6uvrsz5wWdkmBQL+HMdcnt/vkySVlwfzcr31jj16xw69Y4fesUPvVmuHWWP8\ndbzxxhs6d+6cjh07lvVsOj2dt8fNZFz5/T5NTk7l7ZrrVXl5kD16xA69Y4fesUPv8r3D5cKeNcaO\n4yx62TmVSslxnCXnzpw5o0OHDunYsWMqKSm5zlEBAFh/sr5nXFtbq0QioYmJCc3OzioWiykcDi86\n895776mrq0t9fX3asmXLig0LAEAxyvrMOBAIqKurS+3t7cpkMmptbVV1dbV6e3tVU1OjxsZGPf/8\n85qenlZHR4ckqbKyUocOHVrx4QEAKAY5vWfc0NCghoaGRb/3j/BK0pEjR/I6FAAA6wnfwAUAgDFi\nDACAMWIMAIAxYgwAgDFiDACAMWIMAIAxYgwAgDFiDACAMWIMAIAxYgwAgDFiDACAMWIMAIAxYgwA\ngDFiDACAMWIMAIAxYgwAgDFiDACAMWIMAIAxYgwAgDFiDACAMWIMAIAxYgwAgDFiDACAMWIMAIAx\nYgwAgDFiDACAMWIMAIAxYgwAgDFiDACAMWIMAIAxYgwAgDFiDACAMWIMAIAxYgwAgDFiDACAMWIM\nAIAxYgwAgDFiDACAMWIMAIAxYgwAgDFiDACAMWIMAIAxYgwAgDFiDACAMWIMAIAxYgwAgLGcYjwy\nMqKmpiZFIhH19/cvuX92dlaPP/64IpGI9u7dq4sXL+Z90OVs//ZW/dct/7qqjwkAQL5kjXEmk1F3\nd7cOHz6sWCymwcFBjY+PLzrzm9/8RjfeeKN+//vf64c//KFefPHFFRv4au4Kb9ODLf+xqo8JAEC+\nZI1xPB5XVVWVQqGQSkpKFI1GNTQ0tOjM8PCw9uzZI0lqamrS6OioXNddmYkBACgygWwHUqmUKioq\nFm47jqN4PL7kTGVl5ZcXDAQUDAaVTqe1efPma163rGyTAgH/9c59VeXlwbxeb71ij96xQ+/YoXfs\n0LvV2mHWGK+UdHo6r9crLw9qcnIqr9dcj9ijd+zQO3boHTv0Lt87XC7sWV+mdhxHyWRy4XYqlZLj\nOEvOfPrpp5Kkubk5TU1Nqays7HrnBQBgXcka49raWiUSCU1MTGh2dlaxWEzhcHjRmXA4rNdee02S\ndOrUKe3YsUM+n29lJgYAoMhkfZk6EAioq6tL7e3tymQyam1tVXV1tXp7e1VTU6PGxka1tbXpwIED\nikQiKi0t1csvv7waswMAUBR8rtHHnvP9Xgbvj+QHe/SOHXrHDr1jh94V1HvGAABgZRFjAACMEWMA\nAIwRYwAAjBFjAACMmX2aGgAAfIlnxgAAGCPGAAAYI8YAABgjxgAAGCPGAAAYI8YAABhbczEeGRlR\nU1OTIpGI+vv7l9w/Ozurxx9/XJFIRHv37tXFixcNpixs2XY4MDCg5uZmtbS06IEHHtDHH39sMGVh\ny7bDfzh16pRuvvlmvfvuu6s43dqRyx7ffPNNNTc3KxqN6sknn1zlCQtfth1+8skn2rdvn3bv3q2W\nlhadPn3aYMrC9fTTT2vnzp268847r3q/67p69tlnFYlE1NLSovPnz6/MIO4aMjc35zY2Nrp/+ctf\n3JmZGbelpcW9cOHCojPHjh1zn3nmGdd1XXdwcNDt6OiwGLVg5bLD0dFRd3p62nVd133llVfY4Vfk\nskPXdd2pqSn33nvvdffu3evG43GDSQtbLnv88MMP3e9973vu3/72N9d1Xfezzz6zGLVg5bLDgwcP\nuq+88orruq574cIF97vf/a7FqAVrbGzMPXfunBuNRq96/x/+8Af3oYcecufn59133nnHbWtrW5E5\n1tQz43g8rqqqKoVCIZWUlCgajWpoaGjRmeHhYe3Zs0eS1NTUpNHRUbl8r8mCXHa4Y8cObdy4UZJU\nV1enZDJpMWrBymWHktTb26uHH35YGzZsMJiy8OWyx+PHj+u+++5TaWmpJGnLli0WoxasXHbo8/l0\n5coVSdLU1JS2bt1qMWrB2r59+8Lfr6sZGhrS7t275fP5VFdXp8uXL+vSpUt5n2NNxTiVSqmiomLh\ntuM4SqVSS85UVlZKkgKBgILBoNLp9KrOWchy2eE/O3HihOrr61djtDUjlx2eP39eyWRSt99++ypP\nt3bkssdEIqEPP/xQd999t+666y6NjIys9pgFLZcd7t+/XydPnlR9fb0eeeQRHTx4cLXHXNO+uuOK\niopl/8+8Xmsqxlhdb7zxhs6dO6f29nbrUdaU+fl59fT06Mc//rH1KGteJpPRRx99pKNHj+qll17S\nM888o8uXL1uPtabEYjHt2bNHIyMj6u/vV2dnp+bn563HwlesqRg7jrPoJdNUKiXHcZac+fTTTyVJ\nc3NzmpqaUllZ2arOWchy2aEknTlzRocOHVJfX59KSkpWc8SCl22HX3zxhd5//33df//9CofDOnv2\nrB599FE+xPUVuf57DofDuuGGGxQKhXTTTTcpkUis8qSFK5cdnjhxQrt27ZIk3XrrrZqZmeHVwq/h\nqztOJpNX/T/TqzUV49raWiUSCU1MTGh2dlaxWEzhcHjRmXA4rNdee03Sl59k3bFjh3w+n8W4BSmX\nHb733nvq6upSX18f79FdRbYdBoNBvf322xoeHtbw8LDq6urU19en2tpaw6kLTy5/F++44w6NjY1J\nkj7//HMlEgmFQiGLcQtSLjusrKzU6OioJOmDDz7QzMyMNm/ebDHumhQOh/X666/LdV2dPXtWwWBw\nRd53D+T9iisoEAioq6tL7e3tymQyam1tVXV1tXp7e1VTU6PGxka1tbXpwIEDikQiKi0t1csvv2w9\ndkHJZYfPP/+8pqen1dHRIenLf8yHDh0ynrxw5LJDZJfLHm+77Ta99dZbam5ult/vV2dnJ690/ZNc\ndvjUU0/p4MGDOnLkiHw+n3p6eniC8k+eeOIJjY2NKZ1Oq76+Xo899pjm5uYkSffcc48aGhp0+vRp\nRSIRbdy4Uc8999yKzMGPUAQAwNiaepkaAIBiRIwBADBGjAEAMEaMAQAwRowBADBGjAEAMEaMAQAw\nRowBADD2f7tu9+hI2gG/AAAAAElFTkSuQmCC\n",
      "text/plain": [
       "<matplotlib.figure.Figure at 0x7f49e479c278>"
=======
      "image/png": "iVBORw0KGgoAAAANSUhEUgAAAXcAAAD8CAYAAACMwORRAAAABHNCSVQICAgIfAhkiAAAAAlwSFlz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\n",
      "text/plain": [
       "<matplotlib.figure.Figure at 0x7f64f21abda0>"
>>>>>>> fdd5027b1fe17481ff98830ad9e41bd4a7684cfb
      ]
     },
     "metadata": {},
     "output_type": "display_data"
    }
   ],
   "source": [
    "fpr, tpr, _ = roc_curve(y_test, prediction[:,1])\n",
    "plt.plot(fpr, tpr);"
   ]
  },
  {
   "cell_type": "code",
   "execution_count": 9,
<<<<<<< HEAD
   "metadata": {
    "collapsed": true
   },
=======
   "metadata": {},
>>>>>>> fdd5027b1fe17481ff98830ad9e41bd4a7684cfb
   "outputs": [],
   "source": [
    "import fbprophet"
   ]
  },
  {
   "cell_type": "code",
   "execution_count": 10,
   "metadata": {},
   "outputs": [
    {
     "name": "stdout",
     "output_type": "stream",
     "text": [
<<<<<<< HEAD
      "8.3.3\r\n"
=======
      "8.4.0\r\n"
>>>>>>> fdd5027b1fe17481ff98830ad9e41bd4a7684cfb
     ]
    }
   ],
   "source": [
    "!vw --version"
   ]
  },
  {
   "cell_type": "code",
   "execution_count": 11,
   "metadata": {},
   "outputs": [],
   "source": [
    "import keras"
   ]
  },
  {
   "cell_type": "code",
<<<<<<< HEAD
   "execution_count": null,
   "metadata": {
    "collapsed": true
   },
=======
   "execution_count": 12,
   "metadata": {},
   "outputs": [],
   "source": [
    "from sklearn.tree import DecisionTreeClassifier, export_graphviz"
   ]
  },
  {
   "cell_type": "code",
   "execution_count": 13,
   "metadata": {},
   "outputs": [],
   "source": [
    "tree = DecisionTreeClassifier(max_depth=3, random_state=17).fit(X_train, y_train)"
   ]
  },
  {
   "cell_type": "code",
   "execution_count": 14,
   "metadata": {},
   "outputs": [],
   "source": [
    "export_graphviz(tree, 'tree.dot', feature_names=cancer.feature_names, filled=True)"
   ]
  },
  {
   "cell_type": "code",
   "execution_count": 15,
   "metadata": {},
   "outputs": [],
   "source": [
    "!dot -Tpng tree.dot -o tree.png\n",
    "!rm tree.dot"
   ]
  },
  {
   "cell_type": "markdown",
   "metadata": {},
   "source": [
    "<img src='tree.png'>"
   ]
  },
  {
   "cell_type": "code",
   "execution_count": null,
   "metadata": {},
>>>>>>> fdd5027b1fe17481ff98830ad9e41bd4a7684cfb
   "outputs": [],
   "source": []
  }
 ],
 "metadata": {
  "kernelspec": {
   "display_name": "Python 3",
   "language": "python",
   "name": "python3"
  },
  "language_info": {
   "codemirror_mode": {
    "name": "ipython",
    "version": 3
   },
   "file_extension": ".py",
   "mimetype": "text/x-python",
   "name": "python",
   "nbconvert_exporter": "python",
   "pygments_lexer": "ipython3",
   "version": "3.5.2"
  }
 },
 "nbformat": 4,
 "nbformat_minor": 1
}
